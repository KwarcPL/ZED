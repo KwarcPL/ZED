{
 "cells": [
  {
   "cell_type": "markdown",
   "metadata": {},
   "source": [
    "Wczytanie bibliotek"
   ]
  },
  {
   "cell_type": "code",
   "execution_count": 1,
   "metadata": {
    "collapsed": false
   },
   "outputs": [],
   "source": [
    "import pandas as pd\n",
    "import numpy as np\n",
    "from scipy.stats import randint as sp_randint\n",
    "from sklearn import grid_search\n",
    "from sklearn.externals import joblib\n",
    "from sklearn.neighbors import KNeighborsClassifier\n",
    "from sklearn.cross_validation import train_test_split\n",
    "import warnings"
   ]
  },
  {
   "cell_type": "markdown",
   "metadata": {},
   "source": [
    "Ignorowanie ostrzeżeń"
   ]
  },
  {
   "cell_type": "code",
   "execution_count": 2,
   "metadata": {
    "collapsed": true
   },
   "outputs": [],
   "source": [
    "warnings.filterwarnings('ignore')"
   ]
  },
  {
   "cell_type": "markdown",
   "metadata": {},
   "source": [
    "Wczytanie danych"
   ]
  },
  {
   "cell_type": "code",
   "execution_count": 3,
   "metadata": {
    "collapsed": true
   },
   "outputs": [],
   "source": [
    "df = pd.read_csv('all_summary.txt', sep=\";\", na_values=[\"NA\",\"NaN\",\"nan\", \"n/a\", \"\"], low_memory=False).dropna(thresh=1)\n",
    "df = df[df.res_name.notnull()]"
   ]
  },
  {
   "cell_type": "markdown",
   "metadata": {},
   "source": [
    "Filtrowanie danych"
   ]
  },
  {
   "cell_type": "code",
   "execution_count": 4,
   "metadata": {
    "collapsed": true
   },
   "outputs": [],
   "source": [
    "df = df[~df[\"res_name\"].isin(['DA','DC','DT', 'DU', 'DG', 'DI','UNK', 'UNX', 'UNL', 'PR', 'PD', 'Y1', 'EU', 'N', '15P', 'UQ', 'PX4', 'NAN'])]\n",
    "df = df.drop_duplicates(subset = ['pdb_code', 'res_name'])"
   ]
  },
  {
   "cell_type": "markdown",
   "metadata": {},
   "source": [
    "Usuwanie zbędnych danych"
   ]
  },
  {
   "cell_type": "code",
   "execution_count": 5,
   "metadata": {
    "collapsed": true
   },
   "outputs": [],
   "source": [
    "values = df.res_name.value_counts().where(lambda x : x > 5).dropna()\n",
    "df = df[df[\"res_name\"].isin(values.index.get_values())]"
   ]
  },
  {
   "cell_type": "markdown",
   "metadata": {},
   "source": [
    "Przygotowanie danych pod klasyfikację"
   ]
  },
  {
   "cell_type": "code",
   "execution_count": 6,
   "metadata": {
    "collapsed": true
   },
   "outputs": [],
   "source": [
    "numerics = ['int16', 'int32', 'int64', 'float16', 'float32']\n",
    "X = df.select_dtypes(include=numerics)\n",
    "Y = df[\"res_name\"]"
   ]
  },
  {
   "cell_type": "markdown",
   "metadata": {},
   "source": [
    "Klasyfikacja [res_name]"
   ]
  },
  {
   "cell_type": "code",
   "execution_count": 7,
   "metadata": {
    "collapsed": false
   },
   "outputs": [
    {
     "name": "stdout",
     "output_type": "stream",
     "text": [
      "[mean: 0.10786, std: 0.00639, params: {'n_neighbors': 1}, mean: 0.10099, std: 0.01094, params: {'n_neighbors': 2}, mean: 0.09018, std: 0.00457, params: {'n_neighbors': 3}, mean: 0.09043, std: 0.00677, params: {'n_neighbors': 4}, mean: 0.08456, std: 0.00659, params: {'n_neighbors': 5}, mean: 0.08106, std: 0.00700, params: {'n_neighbors': 6}, mean: 0.07853, std: 0.00670, params: {'n_neighbors': 7}, mean: 0.07791, std: 0.00494, params: {'n_neighbors': 8}, mean: 0.07256, std: 0.00362, params: {'n_neighbors': 9}, mean: 0.07071, std: 0.00378, params: {'n_neighbors': 10}, mean: 0.06843, std: 0.00116, params: {'n_neighbors': 11}, mean: 0.06443, std: 0.00073, params: {'n_neighbors': 12}, mean: 0.06685, std: 0.00348, params: {'n_neighbors': 13}, mean: 0.06629, std: 0.00443, params: {'n_neighbors': 14}, mean: 0.06705, std: 0.00190, params: {'n_neighbors': 15}, mean: 0.06798, std: 0.00179, params: {'n_neighbors': 16}, mean: 0.06457, std: 0.00133, params: {'n_neighbors': 17}, mean: 0.06587, std: 0.00195, params: {'n_neighbors': 18}, mean: 0.06545, std: 0.00153, params: {'n_neighbors': 19}]\n"
     ]
    }
   ],
   "source": [
    "clf = KNeighborsClassifier(n_neighbors=7)\n",
    "param = dict(n_neighbors=range(1, 20))\n",
    "result1 = grid_search.GridSearchCV(clf, param_grid=param, scoring = 'precision')\n",
    "result1.fit(X,Y)\n",
    "print(result1.grid_scores_)"
   ]
  },
  {
   "cell_type": "markdown",
   "metadata": {
    "collapsed": true
   },
   "source": [
    "Wczytywanie grup"
   ]
  },
  {
   "cell_type": "code",
   "execution_count": 8,
   "metadata": {
    "collapsed": false
   },
   "outputs": [],
   "source": [
    "groups = pd.read_csv('grouped_res_name.txt', sep=\",\", na_values=[\"NA\",\"NaN\",\"nan\", \"n/a\", \"\"], low_memory=False).dropna(thresh=1)\n",
    "cols = ['nr', 'res_name_group']\n",
    "groups.columns = cols\n",
    "df['group'] = np.asarray(groups[\"res_name_group\"], dtype=\"|S6\")[:df.shape[0]]\n",
    "X = df.select_dtypes(include=numerics)\n",
    "Y = df[\"group\"]"
   ]
  },
  {
   "cell_type": "markdown",
   "metadata": {},
   "source": [
    "Klasyfikacja [group]"
   ]
  },
  {
   "cell_type": "code",
   "execution_count": 9,
   "metadata": {
    "collapsed": false,
    "scrolled": true
   },
   "outputs": [
    {
     "name": "stdout",
     "output_type": "stream",
     "text": [
      "[mean: 0.04285, std: 0.00275, params: {'n_neighbors': 1}, mean: 0.04879, std: 0.00313, params: {'n_neighbors': 2}, mean: 0.04853, std: 0.00501, params: {'n_neighbors': 3}, mean: 0.04842, std: 0.00211, params: {'n_neighbors': 4}, mean: 0.04777, std: 0.00054, params: {'n_neighbors': 5}, mean: 0.04743, std: 0.00190, params: {'n_neighbors': 6}, mean: 0.04314, std: 0.00369, params: {'n_neighbors': 7}, mean: 0.04350, std: 0.00194, params: {'n_neighbors': 8}, mean: 0.04450, std: 0.00186, params: {'n_neighbors': 9}, mean: 0.04343, std: 0.00162, params: {'n_neighbors': 10}, mean: 0.04314, std: 0.00095, params: {'n_neighbors': 11}, mean: 0.04320, std: 0.00040, params: {'n_neighbors': 12}, mean: 0.04264, std: 0.00163, params: {'n_neighbors': 13}, mean: 0.04383, std: 0.00166, params: {'n_neighbors': 14}, mean: 0.04280, std: 0.00151, params: {'n_neighbors': 15}, mean: 0.04254, std: 0.00045, params: {'n_neighbors': 16}, mean: 0.04302, std: 0.00131, params: {'n_neighbors': 17}, mean: 0.04336, std: 0.00264, params: {'n_neighbors': 18}, mean: 0.04413, std: 0.00287, params: {'n_neighbors': 19}]\n"
     ]
    }
   ],
   "source": [
    "result2 = grid_search.GridSearchCV(clf, param_grid=param, scoring = 'precision')\n",
    "result2.fit(X,Y)\n",
    "print(result2.grid_scores_)"
   ]
  },
  {
   "cell_type": "markdown",
   "metadata": {},
   "source": [
    "Zapisywanie do pliku"
   ]
  },
  {
   "cell_type": "code",
   "execution_count": 10,
   "metadata": {
    "collapsed": false
   },
   "outputs": [
    {
     "data": {
      "text/plain": [
       "['group_results.pkl',\n",
       " 'group_results.pkl_01.npy',\n",
       " 'group_results.pkl_02.npy',\n",
       " 'group_results.pkl_03.npy',\n",
       " 'group_results.pkl_04.npy',\n",
       " 'group_results.pkl_05.npy',\n",
       " 'group_results.pkl_06.npy',\n",
       " 'group_results.pkl_07.npy',\n",
       " 'group_results.pkl_08.npy',\n",
       " 'group_results.pkl_09.npy',\n",
       " 'group_results.pkl_10.npy',\n",
       " 'group_results.pkl_11.npy',\n",
       " 'group_results.pkl_12.npy',\n",
       " 'group_results.pkl_13.npy',\n",
       " 'group_results.pkl_14.npy',\n",
       " 'group_results.pkl_15.npy',\n",
       " 'group_results.pkl_16.npy',\n",
       " 'group_results.pkl_17.npy',\n",
       " 'group_results.pkl_18.npy',\n",
       " 'group_results.pkl_19.npy']"
      ]
     },
     "execution_count": 10,
     "metadata": {},
     "output_type": "execute_result"
    }
   ],
   "source": [
    "joblib.dump(result1.grid_scores_, 'name_results.pkl')\n",
    "joblib.dump(result2.grid_scores_, 'group_results.pkl')"
   ]
  },
  {
   "cell_type": "code",
   "execution_count": null,
   "metadata": {
    "collapsed": true
   },
   "outputs": [],
   "source": []
  }
 ],
 "metadata": {
  "kernelspec": {
   "display_name": "Python 2",
   "language": "python",
   "name": "python2"
  },
  "language_info": {
   "codemirror_mode": {
    "name": "ipython",
    "version": 2
   },
   "file_extension": ".py",
   "mimetype": "text/x-python",
   "name": "python",
   "nbconvert_exporter": "python",
   "pygments_lexer": "ipython2",
   "version": "2.7.12"
  }
 },
 "nbformat": 4,
 "nbformat_minor": 1
}
